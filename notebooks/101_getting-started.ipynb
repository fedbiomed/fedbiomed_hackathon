{
 "cells": [
  {
   "cell_type": "markdown",
   "metadata": {},
   "source": [
    "# Fed-BioMed Researcher base example\n",
    "\n",
    "This example uses MNIST dataset. Please check `README.md` file in `notebooks` directory for the instructions to load MNIST dataset and configure nodes.\n"
   ]
  },
  {
   "cell_type": "markdown",
   "metadata": {},
   "source": [
    "## Define an experiment model and parameters"
   ]
  },
  {
   "cell_type": "markdown",
   "metadata": {},
   "source": [
    "Declare a torch training plan MyTrainingPlan class to send for training on the node"
   ]
  },
  {
   "cell_type": "code",
   "execution_count": 1,
   "metadata": {},
   "outputs": [],
   "source": [
    "import torch\n",
    "import torch.nn as nn\n",
    "from fedbiomed.common.training_plans import TorchTrainingPlan\n",
    "from fedbiomed.common.data import DataManager\n",
    "from torchvision import datasets, transforms\n",
    "\n",
    "\n",
    "# Here we define the model to be used. \n",
    "# You can use any class name (here 'Net')\n",
    "class MyTrainingPlan(TorchTrainingPlan):\n",
    "    \n",
    "    # Defines and return model \n",
    "    def init_model(self, model_args):\n",
    "        return self.Net(model_args = model_args)\n",
    "    \n",
    "    # Defines and return optimizer\n",
    "    def init_optimizer(self, optimizer_args):\n",
    "        return torch.optim.Adam(self.model().parameters(), lr = optimizer_args[\"lr\"])\n",
    "    \n",
    "    # Declares and return dependencies\n",
    "    def init_dependencies(self):\n",
    "        deps = [\"from torchvision import datasets, transforms\"]\n",
    "        return deps\n",
    "    \n",
    "    class Net(nn.Module):\n",
    "        def __init__(self, model_args):\n",
    "            super().__init__()\n",
    "            self.conv1 = nn.Conv2d(1, 32, 3, 1)\n",
    "            self.conv2 = nn.Conv2d(32, 64, 3, 1)\n",
    "            self.dropout1 = nn.Dropout(0.25)\n",
    "            self.dropout2 = nn.Dropout(0.5)\n",
    "            self.fc1 = nn.Linear(9216, 128)\n",
    "            self.fc2 = nn.Linear(128, 10)\n",
    "\n",
    "        def forward(self, x):\n",
    "            x = self.conv1(x)\n",
    "            x = F.relu(x)\n",
    "            x = self.conv2(x)\n",
    "            x = F.relu(x)\n",
    "            x = F.max_pool2d(x, 2)\n",
    "            x = self.dropout1(x)\n",
    "            x = torch.flatten(x, 1)\n",
    "            x = self.fc1(x)\n",
    "            x = F.relu(x)\n",
    "            x = self.dropout2(x)\n",
    "            x = self.fc2(x)\n",
    "\n",
    "\n",
    "            output = F.log_softmax(x, dim=1)\n",
    "            return output\n",
    "\n",
    "    def training_data(self):\n",
    "        # Custom torch Dataloader for MNIST data\n",
    "        transform = transforms.Compose([transforms.ToTensor(),\n",
    "        transforms.Normalize((0.1307,), (0.3081,))])\n",
    "        dataset1 = datasets.MNIST(self.dataset_path, train=True, download=False, transform=transform)\n",
    "        train_kwargs = { 'shuffle': True}\n",
    "        return DataManager(dataset=dataset1, **train_kwargs)\n",
    "    \n",
    "    def training_step(self, data, target):\n",
    "        output = self.model().forward(data)\n",
    "        loss   = torch.nn.functional.nll_loss(output, target)\n",
    "        return loss\n"
   ]
  },
  {
   "cell_type": "markdown",
   "metadata": {},
   "source": [
    "### Model arguments and training arguments"
   ]
  },
  {
   "cell_type": "code",
   "execution_count": 2,
   "metadata": {
    "pycharm": {
     "name": "#%%\n"
    }
   },
   "outputs": [],
   "source": [
    "model_args = {}\n",
    "\n",
    "training_args = {\n",
    "    'loader_args': { 'batch_size': 48, }, \n",
    "    'optimizer_args': {\n",
    "        \"lr\" : 1e-3\n",
    "    },\n",
    "    # 'use_gpu': True,  # automatically falls back to cpu on nodes that don't support gpu\n",
    "    'epochs': 1, \n",
    "    'dry_run': False,  \n",
    "    'batch_maxnum': 100 # Fast pass for development : only use ( batch_maxnum * batch_size ) samples\n",
    "}"
   ]
  },
  {
   "cell_type": "markdown",
   "metadata": {},
   "source": [
    "### Create and run the experiment"
   ]
  },
  {
   "cell_type": "code",
   "execution_count": 5,
   "metadata": {
    "pycharm": {
     "name": "#%%\n"
    }
   },
   "outputs": [
    {
     "data": {
      "text/plain": [
       "2024-09-03 17:10:53,080 fedbiomed INFO - Updating training data. This action will update FederatedDataset, and the nodes that will participate to the experiment."
      ]
     },
     "metadata": {},
     "output_type": "display_data"
    },
    {
     "data": {
      "text/plain": [
       "2024-09-03 17:10:53,088 fedbiomed DEBUG - Node: NODE_c6864947-8a25-4b11-aa49-fe9f41a4d98f polling for the tasks"
      ]
     },
     "metadata": {},
     "output_type": "display_data"
    },
    {
     "data": {
      "text/plain": [
       "2024-09-03 17:10:53,090 fedbiomed DEBUG - Node: NODE_16ecdabb-f02b-4973-94f8-a9f9e5c04412 polling for the tasks"
      ]
     },
     "metadata": {},
     "output_type": "display_data"
    },
    {
     "data": {
      "text/plain": [
       "2024-09-03 17:10:53,094 fedbiomed INFO - Node selected for training -> NODE_c6864947-8a25-4b11-aa49-fe9f41a4d98f"
      ]
     },
     "metadata": {},
     "output_type": "display_data"
    },
    {
     "data": {
      "text/plain": [
       "2024-09-03 17:10:53,094 fedbiomed INFO - Node selected for training -> NODE_16ecdabb-f02b-4973-94f8-a9f9e5c04412"
      ]
     },
     "metadata": {},
     "output_type": "display_data"
    },
    {
     "data": {
      "text/plain": [
       "2024-09-03 17:10:53,100 fedbiomed DEBUG - Model file has been saved: /Users/scansiz/development/fedbiomed/var/experiments/Experiment_0005/model_e6fac7ad-2c31-49ad-b8ea-398e7985e3b2.py"
      ]
     },
     "metadata": {},
     "output_type": "display_data"
    }
   ],
   "source": [
    "from fedbiomed.researcher.federated_workflows import Experiment\n",
    "from fedbiomed.researcher.aggregators.fedavg import FedAverage\n",
    "from fedbiomed.researcher.secagg import SecureAggregationSchemes, SecureAggregation\n",
    "\n",
    "\n",
    "tags =  ['#MNIST', '#dataset']\n",
    "rounds = 2\n",
    "\n",
    "exp = Experiment(tags=tags,\n",
    "                 model_args=model_args,\n",
    "                 training_plan_class=MyTrainingPlan,\n",
    "                 training_args=training_args,\n",
    "                 round_limit=rounds,\n",
    "                 aggregator=FedAverage()\n",
    "                )"
   ]
  },
  {
   "cell_type": "code",
   "execution_count": null,
   "metadata": {},
   "outputs": [],
   "source": [
    "exp.info()"
   ]
  },
  {
   "cell_type": "code",
   "execution_count": 7,
   "metadata": {
    "pycharm": {
     "name": "#%%\n"
    }
   },
   "outputs": [
    {
     "data": {
      "text/plain": [
       "2024-09-03 17:11:21,943 fedbiomed DEBUG - Auto increasing total rounds for experiment from 2 to 6"
      ]
     },
     "metadata": {},
     "output_type": "display_data"
    },
    {
     "data": {
      "text/plain": [
       "2024-09-03 17:11:21,948 fedbiomed INFO - Sampled nodes in round 2 ['NODE_c6864947-8a25-4b11-aa49-fe9f41a4d98f', 'NODE_16ecdabb-f02b-4973-94f8-a9f9e5c04412']"
      ]
     },
     "metadata": {},
     "output_type": "display_data"
    },
    {
     "data": {
      "text/plain": [
       "2024-09-03 17:11:21,955 fedbiomed INFO - \u001b[1mSending request\u001b[0m \n",
       "\t\t\t\t\t\u001b[1m To\u001b[0m: NODE_c6864947-8a25-4b11-aa49-fe9f41a4d98f \n",
       "\t\t\t\t\t\u001b[1m Request: \u001b[0m: TRAIN\n",
       " -----------------------------------------------------------------"
      ]
     },
     "metadata": {},
     "output_type": "display_data"
    },
    {
     "data": {
      "text/plain": [
       "2024-09-03 17:11:21,956 fedbiomed INFO - \u001b[1mSending request\u001b[0m \n",
       "\t\t\t\t\t\u001b[1m To\u001b[0m: NODE_16ecdabb-f02b-4973-94f8-a9f9e5c04412 \n",
       "\t\t\t\t\t\u001b[1m Request: \u001b[0m: TRAIN\n",
       " -----------------------------------------------------------------"
      ]
     },
     "metadata": {},
     "output_type": "display_data"
    },
    {
     "data": {
      "text/plain": [
       "2024-09-03 17:11:21,993 fedbiomed DEBUG - Node: NODE_c6864947-8a25-4b11-aa49-fe9f41a4d98f polling for the tasks"
      ]
     },
     "metadata": {},
     "output_type": "display_data"
    },
    {
     "data": {
      "text/plain": [
       "2024-09-03 17:11:21,995 fedbiomed DEBUG - Node: NODE_16ecdabb-f02b-4973-94f8-a9f9e5c04412 polling for the tasks"
      ]
     },
     "metadata": {},
     "output_type": "display_data"
    },
    {
     "data": {
      "text/plain": [
       "2024-09-03 17:11:22,072 fedbiomed INFO - \u001b[1mTRAINING\u001b[0m \n",
       "\t\t\t\t\t NODE_ID: NODE_c6864947-8a25-4b11-aa49-fe9f41a4d98f \n",
       "\t\t\t\t\t Round 3 Epoch: 1 | Iteration: 1/100 (1%) | Samples: 48/4800\n",
       " \t\t\t\t\t Loss: \u001b[1m0.067676\u001b[0m \n",
       "\t\t\t\t\t ---------"
      ]
     },
     "metadata": {},
     "output_type": "display_data"
    },
    {
     "data": {
      "text/plain": [
       "2024-09-03 17:11:22,080 fedbiomed INFO - \u001b[1mTRAINING\u001b[0m \n",
       "\t\t\t\t\t NODE_ID: NODE_16ecdabb-f02b-4973-94f8-a9f9e5c04412 \n",
       "\t\t\t\t\t Round 3 Epoch: 1 | Iteration: 1/100 (1%) | Samples: 48/4800\n",
       " \t\t\t\t\t Loss: \u001b[1m0.015528\u001b[0m \n",
       "\t\t\t\t\t ---------"
      ]
     },
     "metadata": {},
     "output_type": "display_data"
    },
    {
     "data": {
      "text/plain": [
       "2024-09-03 17:11:22,406 fedbiomed INFO - \u001b[1mTRAINING\u001b[0m \n",
       "\t\t\t\t\t NODE_ID: NODE_c6864947-8a25-4b11-aa49-fe9f41a4d98f \n",
       "\t\t\t\t\t Round 3 Epoch: 1 | Iteration: 10/100 (10%) | Samples: 480/4800\n",
       " \t\t\t\t\t Loss: \u001b[1m0.357783\u001b[0m \n",
       "\t\t\t\t\t ---------"
      ]
     },
     "metadata": {},
     "output_type": "display_data"
    },
    {
     "data": {
      "text/plain": [
       "2024-09-03 17:11:22,430 fedbiomed INFO - \u001b[1mTRAINING\u001b[0m \n",
       "\t\t\t\t\t NODE_ID: NODE_16ecdabb-f02b-4973-94f8-a9f9e5c04412 \n",
       "\t\t\t\t\t Round 3 Epoch: 1 | Iteration: 10/100 (10%) | Samples: 480/4800\n",
       " \t\t\t\t\t Loss: \u001b[1m0.029560\u001b[0m \n",
       "\t\t\t\t\t ---------"
      ]
     },
     "metadata": {},
     "output_type": "display_data"
    },
    {
     "data": {
      "text/plain": [
       "2024-09-03 17:11:22,784 fedbiomed INFO - \u001b[1mTRAINING\u001b[0m \n",
       "\t\t\t\t\t NODE_ID: NODE_c6864947-8a25-4b11-aa49-fe9f41a4d98f \n",
       "\t\t\t\t\t Round 3 Epoch: 1 | Iteration: 20/100 (20%) | Samples: 960/4800\n",
       " \t\t\t\t\t Loss: \u001b[1m0.254887\u001b[0m \n",
       "\t\t\t\t\t ---------"
      ]
     },
     "metadata": {},
     "output_type": "display_data"
    },
    {
     "data": {
      "text/plain": [
       "2024-09-03 17:11:22,790 fedbiomed INFO - \u001b[1mTRAINING\u001b[0m \n",
       "\t\t\t\t\t NODE_ID: NODE_16ecdabb-f02b-4973-94f8-a9f9e5c04412 \n",
       "\t\t\t\t\t Round 3 Epoch: 1 | Iteration: 20/100 (20%) | Samples: 960/4800\n",
       " \t\t\t\t\t Loss: \u001b[1m0.164598\u001b[0m \n",
       "\t\t\t\t\t ---------"
      ]
     },
     "metadata": {},
     "output_type": "display_data"
    },
    {
     "data": {
      "text/plain": [
       "2024-09-03 17:11:23,156 fedbiomed INFO - \u001b[1mTRAINING\u001b[0m \n",
       "\t\t\t\t\t NODE_ID: NODE_c6864947-8a25-4b11-aa49-fe9f41a4d98f \n",
       "\t\t\t\t\t Round 3 Epoch: 1 | Iteration: 30/100 (30%) | Samples: 1440/4800\n",
       " \t\t\t\t\t Loss: \u001b[1m0.052984\u001b[0m \n",
       "\t\t\t\t\t ---------"
      ]
     },
     "metadata": {},
     "output_type": "display_data"
    },
    {
     "data": {
      "text/plain": [
       "2024-09-03 17:11:23,157 fedbiomed INFO - \u001b[1mTRAINING\u001b[0m \n",
       "\t\t\t\t\t NODE_ID: NODE_16ecdabb-f02b-4973-94f8-a9f9e5c04412 \n",
       "\t\t\t\t\t Round 3 Epoch: 1 | Iteration: 30/100 (30%) | Samples: 1440/4800\n",
       " \t\t\t\t\t Loss: \u001b[1m0.188248\u001b[0m \n",
       "\t\t\t\t\t ---------"
      ]
     },
     "metadata": {},
     "output_type": "display_data"
    },
    {
     "data": {
      "text/plain": [
       "2024-09-03 17:11:23,535 fedbiomed INFO - \u001b[1mTRAINING\u001b[0m \n",
       "\t\t\t\t\t NODE_ID: NODE_c6864947-8a25-4b11-aa49-fe9f41a4d98f \n",
       "\t\t\t\t\t Round 3 Epoch: 1 | Iteration: 40/100 (40%) | Samples: 1920/4800\n",
       " \t\t\t\t\t Loss: \u001b[1m0.187178\u001b[0m \n",
       "\t\t\t\t\t ---------"
      ]
     },
     "metadata": {},
     "output_type": "display_data"
    },
    {
     "data": {
      "text/plain": [
       "2024-09-03 17:11:23,537 fedbiomed INFO - \u001b[1mTRAINING\u001b[0m \n",
       "\t\t\t\t\t NODE_ID: NODE_16ecdabb-f02b-4973-94f8-a9f9e5c04412 \n",
       "\t\t\t\t\t Round 3 Epoch: 1 | Iteration: 40/100 (40%) | Samples: 1920/4800\n",
       " \t\t\t\t\t Loss: \u001b[1m0.144015\u001b[0m \n",
       "\t\t\t\t\t ---------"
      ]
     },
     "metadata": {},
     "output_type": "display_data"
    },
    {
     "data": {
      "text/plain": [
       "2024-09-03 17:11:23,908 fedbiomed INFO - \u001b[1mTRAINING\u001b[0m \n",
       "\t\t\t\t\t NODE_ID: NODE_16ecdabb-f02b-4973-94f8-a9f9e5c04412 \n",
       "\t\t\t\t\t Round 3 Epoch: 1 | Iteration: 50/100 (50%) | Samples: 2400/4800\n",
       " \t\t\t\t\t Loss: \u001b[1m0.112588\u001b[0m \n",
       "\t\t\t\t\t ---------"
      ]
     },
     "metadata": {},
     "output_type": "display_data"
    },
    {
     "data": {
      "text/plain": [
       "2024-09-03 17:11:23,920 fedbiomed INFO - \u001b[1mTRAINING\u001b[0m \n",
       "\t\t\t\t\t NODE_ID: NODE_c6864947-8a25-4b11-aa49-fe9f41a4d98f \n",
       "\t\t\t\t\t Round 3 Epoch: 1 | Iteration: 50/100 (50%) | Samples: 2400/4800\n",
       " \t\t\t\t\t Loss: \u001b[1m0.071550\u001b[0m \n",
       "\t\t\t\t\t ---------"
      ]
     },
     "metadata": {},
     "output_type": "display_data"
    },
    {
     "data": {
      "text/plain": [
       "2024-09-03 17:11:24,297 fedbiomed INFO - \u001b[1mTRAINING\u001b[0m \n",
       "\t\t\t\t\t NODE_ID: NODE_16ecdabb-f02b-4973-94f8-a9f9e5c04412 \n",
       "\t\t\t\t\t Round 3 Epoch: 1 | Iteration: 60/100 (60%) | Samples: 2880/4800\n",
       " \t\t\t\t\t Loss: \u001b[1m0.182263\u001b[0m \n",
       "\t\t\t\t\t ---------"
      ]
     },
     "metadata": {},
     "output_type": "display_data"
    },
    {
     "data": {
      "text/plain": [
       "2024-09-03 17:11:24,314 fedbiomed INFO - \u001b[1mTRAINING\u001b[0m \n",
       "\t\t\t\t\t NODE_ID: NODE_c6864947-8a25-4b11-aa49-fe9f41a4d98f \n",
       "\t\t\t\t\t Round 3 Epoch: 1 | Iteration: 60/100 (60%) | Samples: 2880/4800\n",
       " \t\t\t\t\t Loss: \u001b[1m0.127919\u001b[0m \n",
       "\t\t\t\t\t ---------"
      ]
     },
     "metadata": {},
     "output_type": "display_data"
    },
    {
     "data": {
      "text/plain": [
       "2024-09-03 17:11:24,676 fedbiomed INFO - \u001b[1mTRAINING\u001b[0m \n",
       "\t\t\t\t\t NODE_ID: NODE_16ecdabb-f02b-4973-94f8-a9f9e5c04412 \n",
       "\t\t\t\t\t Round 3 Epoch: 1 | Iteration: 70/100 (70%) | Samples: 3360/4800\n",
       " \t\t\t\t\t Loss: \u001b[1m0.348058\u001b[0m \n",
       "\t\t\t\t\t ---------"
      ]
     },
     "metadata": {},
     "output_type": "display_data"
    },
    {
     "data": {
      "text/plain": [
       "2024-09-03 17:11:24,686 fedbiomed INFO - \u001b[1mTRAINING\u001b[0m \n",
       "\t\t\t\t\t NODE_ID: NODE_c6864947-8a25-4b11-aa49-fe9f41a4d98f \n",
       "\t\t\t\t\t Round 3 Epoch: 1 | Iteration: 70/100 (70%) | Samples: 3360/4800\n",
       " \t\t\t\t\t Loss: \u001b[1m0.047357\u001b[0m \n",
       "\t\t\t\t\t ---------"
      ]
     },
     "metadata": {},
     "output_type": "display_data"
    },
    {
     "data": {
      "text/plain": [
       "2024-09-03 17:11:25,052 fedbiomed INFO - \u001b[1mTRAINING\u001b[0m \n",
       "\t\t\t\t\t NODE_ID: NODE_16ecdabb-f02b-4973-94f8-a9f9e5c04412 \n",
       "\t\t\t\t\t Round 3 Epoch: 1 | Iteration: 80/100 (80%) | Samples: 3840/4800\n",
       " \t\t\t\t\t Loss: \u001b[1m0.190982\u001b[0m \n",
       "\t\t\t\t\t ---------"
      ]
     },
     "metadata": {},
     "output_type": "display_data"
    },
    {
     "data": {
      "text/plain": [
       "2024-09-03 17:11:25,072 fedbiomed INFO - \u001b[1mTRAINING\u001b[0m \n",
       "\t\t\t\t\t NODE_ID: NODE_c6864947-8a25-4b11-aa49-fe9f41a4d98f \n",
       "\t\t\t\t\t Round 3 Epoch: 1 | Iteration: 80/100 (80%) | Samples: 3840/4800\n",
       " \t\t\t\t\t Loss: \u001b[1m0.095861\u001b[0m \n",
       "\t\t\t\t\t ---------"
      ]
     },
     "metadata": {},
     "output_type": "display_data"
    },
    {
     "data": {
      "text/plain": [
       "2024-09-03 17:11:25,431 fedbiomed INFO - \u001b[1mTRAINING\u001b[0m \n",
       "\t\t\t\t\t NODE_ID: NODE_16ecdabb-f02b-4973-94f8-a9f9e5c04412 \n",
       "\t\t\t\t\t Round 3 Epoch: 1 | Iteration: 90/100 (90%) | Samples: 4320/4800\n",
       " \t\t\t\t\t Loss: \u001b[1m0.056331\u001b[0m \n",
       "\t\t\t\t\t ---------"
      ]
     },
     "metadata": {},
     "output_type": "display_data"
    },
    {
     "data": {
      "text/plain": [
       "2024-09-03 17:11:25,447 fedbiomed INFO - \u001b[1mTRAINING\u001b[0m \n",
       "\t\t\t\t\t NODE_ID: NODE_c6864947-8a25-4b11-aa49-fe9f41a4d98f \n",
       "\t\t\t\t\t Round 3 Epoch: 1 | Iteration: 90/100 (90%) | Samples: 4320/4800\n",
       " \t\t\t\t\t Loss: \u001b[1m0.058255\u001b[0m \n",
       "\t\t\t\t\t ---------"
      ]
     },
     "metadata": {},
     "output_type": "display_data"
    },
    {
     "data": {
      "text/plain": [
       "2024-09-03 17:11:25,810 fedbiomed INFO - \u001b[1mTRAINING\u001b[0m \n",
       "\t\t\t\t\t NODE_ID: NODE_16ecdabb-f02b-4973-94f8-a9f9e5c04412 \n",
       "\t\t\t\t\t Round 3 Epoch: 1 | Iteration: 100/100 (100%) | Samples: 4800/4800\n",
       " \t\t\t\t\t Loss: \u001b[1m0.148103\u001b[0m \n",
       "\t\t\t\t\t ---------"
      ]
     },
     "metadata": {},
     "output_type": "display_data"
    },
    {
     "data": {
      "text/plain": [
       "2024-09-03 17:11:25,828 fedbiomed INFO - \u001b[1mTRAINING\u001b[0m \n",
       "\t\t\t\t\t NODE_ID: NODE_c6864947-8a25-4b11-aa49-fe9f41a4d98f \n",
       "\t\t\t\t\t Round 3 Epoch: 1 | Iteration: 100/100 (100%) | Samples: 4800/4800\n",
       " \t\t\t\t\t Loss: \u001b[1m0.102926\u001b[0m \n",
       "\t\t\t\t\t ---------"
      ]
     },
     "metadata": {},
     "output_type": "display_data"
    },
    {
     "data": {
      "text/plain": [
       "2024-09-03 17:11:25,846 fedbiomed INFO - Nodes that successfully reply in round 2 ['NODE_c6864947-8a25-4b11-aa49-fe9f41a4d98f', 'NODE_16ecdabb-f02b-4973-94f8-a9f9e5c04412']"
      ]
     },
     "metadata": {},
     "output_type": "display_data"
    },
    {
     "data": {
      "text/plain": [
       "2024-09-03 17:11:25,849 fedbiomed INFO - Sampled nodes in round 3 ['NODE_c6864947-8a25-4b11-aa49-fe9f41a4d98f', 'NODE_16ecdabb-f02b-4973-94f8-a9f9e5c04412']"
      ]
     },
     "metadata": {},
     "output_type": "display_data"
    },
    {
     "data": {
      "text/plain": [
       "2024-09-03 17:11:25,850 fedbiomed INFO - \u001b[1mSending request\u001b[0m \n",
       "\t\t\t\t\t\u001b[1m To\u001b[0m: NODE_c6864947-8a25-4b11-aa49-fe9f41a4d98f \n",
       "\t\t\t\t\t\u001b[1m Request: \u001b[0m: TRAIN\n",
       " -----------------------------------------------------------------"
      ]
     },
     "metadata": {},
     "output_type": "display_data"
    },
    {
     "data": {
      "text/plain": [
       "2024-09-03 17:11:25,850 fedbiomed INFO - \u001b[1mSending request\u001b[0m \n",
       "\t\t\t\t\t\u001b[1m To\u001b[0m: NODE_16ecdabb-f02b-4973-94f8-a9f9e5c04412 \n",
       "\t\t\t\t\t\u001b[1m Request: \u001b[0m: TRAIN\n",
       " -----------------------------------------------------------------"
      ]
     },
     "metadata": {},
     "output_type": "display_data"
    },
    {
     "data": {
      "text/plain": [
       "2024-09-03 17:11:25,870 fedbiomed DEBUG - Node: NODE_c6864947-8a25-4b11-aa49-fe9f41a4d98f polling for the tasks"
      ]
     },
     "metadata": {},
     "output_type": "display_data"
    },
    {
     "data": {
      "text/plain": [
       "2024-09-03 17:11:25,872 fedbiomed DEBUG - Node: NODE_16ecdabb-f02b-4973-94f8-a9f9e5c04412 polling for the tasks"
      ]
     },
     "metadata": {},
     "output_type": "display_data"
    },
    {
     "data": {
      "text/plain": [
       "2024-09-03 17:11:25,947 fedbiomed INFO - \u001b[1mTRAINING\u001b[0m \n",
       "\t\t\t\t\t NODE_ID: NODE_16ecdabb-f02b-4973-94f8-a9f9e5c04412 \n",
       "\t\t\t\t\t Round 4 Epoch: 1 | Iteration: 1/100 (1%) | Samples: 48/4800\n",
       " \t\t\t\t\t Loss: \u001b[1m0.037842\u001b[0m \n",
       "\t\t\t\t\t ---------"
      ]
     },
     "metadata": {},
     "output_type": "display_data"
    },
    {
     "data": {
      "text/plain": [
       "2024-09-03 17:11:25,956 fedbiomed INFO - \u001b[1mTRAINING\u001b[0m \n",
       "\t\t\t\t\t NODE_ID: NODE_c6864947-8a25-4b11-aa49-fe9f41a4d98f \n",
       "\t\t\t\t\t Round 4 Epoch: 1 | Iteration: 1/100 (1%) | Samples: 48/4800\n",
       " \t\t\t\t\t Loss: \u001b[1m0.086346\u001b[0m \n",
       "\t\t\t\t\t ---------"
      ]
     },
     "metadata": {},
     "output_type": "display_data"
    },
    {
     "data": {
      "text/plain": [
       "2024-09-03 17:11:26,283 fedbiomed INFO - \u001b[1mTRAINING\u001b[0m \n",
       "\t\t\t\t\t NODE_ID: NODE_c6864947-8a25-4b11-aa49-fe9f41a4d98f \n",
       "\t\t\t\t\t Round 4 Epoch: 1 | Iteration: 10/100 (10%) | Samples: 480/4800\n",
       " \t\t\t\t\t Loss: \u001b[1m0.408015\u001b[0m \n",
       "\t\t\t\t\t ---------"
      ]
     },
     "metadata": {},
     "output_type": "display_data"
    },
    {
     "data": {
      "text/plain": [
       "2024-09-03 17:11:26,284 fedbiomed INFO - \u001b[1mTRAINING\u001b[0m \n",
       "\t\t\t\t\t NODE_ID: NODE_16ecdabb-f02b-4973-94f8-a9f9e5c04412 \n",
       "\t\t\t\t\t Round 4 Epoch: 1 | Iteration: 10/100 (10%) | Samples: 480/4800\n",
       " \t\t\t\t\t Loss: \u001b[1m0.246535\u001b[0m \n",
       "\t\t\t\t\t ---------"
      ]
     },
     "metadata": {},
     "output_type": "display_data"
    },
    {
     "data": {
      "text/plain": [
       "2024-09-03 17:11:26,647 fedbiomed INFO - \u001b[1mTRAINING\u001b[0m \n",
       "\t\t\t\t\t NODE_ID: NODE_c6864947-8a25-4b11-aa49-fe9f41a4d98f \n",
       "\t\t\t\t\t Round 4 Epoch: 1 | Iteration: 20/100 (20%) | Samples: 960/4800\n",
       " \t\t\t\t\t Loss: \u001b[1m0.139669\u001b[0m \n",
       "\t\t\t\t\t ---------"
      ]
     },
     "metadata": {},
     "output_type": "display_data"
    },
    {
     "data": {
      "text/plain": [
       "2024-09-03 17:11:26,662 fedbiomed INFO - \u001b[1mTRAINING\u001b[0m \n",
       "\t\t\t\t\t NODE_ID: NODE_16ecdabb-f02b-4973-94f8-a9f9e5c04412 \n",
       "\t\t\t\t\t Round 4 Epoch: 1 | Iteration: 20/100 (20%) | Samples: 960/4800\n",
       " \t\t\t\t\t Loss: \u001b[1m0.156942\u001b[0m \n",
       "\t\t\t\t\t ---------"
      ]
     },
     "metadata": {},
     "output_type": "display_data"
    },
    {
     "data": {
      "text/plain": [
       "2024-09-03 17:11:27,026 fedbiomed INFO - \u001b[1mTRAINING\u001b[0m \n",
       "\t\t\t\t\t NODE_ID: NODE_c6864947-8a25-4b11-aa49-fe9f41a4d98f \n",
       "\t\t\t\t\t Round 4 Epoch: 1 | Iteration: 30/100 (30%) | Samples: 1440/4800\n",
       " \t\t\t\t\t Loss: \u001b[1m0.080015\u001b[0m \n",
       "\t\t\t\t\t ---------"
      ]
     },
     "metadata": {},
     "output_type": "display_data"
    },
    {
     "data": {
      "text/plain": [
       "2024-09-03 17:11:27,043 fedbiomed INFO - \u001b[1mTRAINING\u001b[0m \n",
       "\t\t\t\t\t NODE_ID: NODE_16ecdabb-f02b-4973-94f8-a9f9e5c04412 \n",
       "\t\t\t\t\t Round 4 Epoch: 1 | Iteration: 30/100 (30%) | Samples: 1440/4800\n",
       " \t\t\t\t\t Loss: \u001b[1m0.200564\u001b[0m \n",
       "\t\t\t\t\t ---------"
      ]
     },
     "metadata": {},
     "output_type": "display_data"
    },
    {
     "data": {
      "text/plain": [
       "2024-09-03 17:11:27,409 fedbiomed INFO - \u001b[1mTRAINING\u001b[0m \n",
       "\t\t\t\t\t NODE_ID: NODE_c6864947-8a25-4b11-aa49-fe9f41a4d98f \n",
       "\t\t\t\t\t Round 4 Epoch: 1 | Iteration: 40/100 (40%) | Samples: 1920/4800\n",
       " \t\t\t\t\t Loss: \u001b[1m0.104745\u001b[0m \n",
       "\t\t\t\t\t ---------"
      ]
     },
     "metadata": {},
     "output_type": "display_data"
    },
    {
     "data": {
      "text/plain": [
       "2024-09-03 17:11:27,435 fedbiomed INFO - \u001b[1mTRAINING\u001b[0m \n",
       "\t\t\t\t\t NODE_ID: NODE_16ecdabb-f02b-4973-94f8-a9f9e5c04412 \n",
       "\t\t\t\t\t Round 4 Epoch: 1 | Iteration: 40/100 (40%) | Samples: 1920/4800\n",
       " \t\t\t\t\t Loss: \u001b[1m0.136773\u001b[0m \n",
       "\t\t\t\t\t ---------"
      ]
     },
     "metadata": {},
     "output_type": "display_data"
    },
    {
     "data": {
      "text/plain": [
       "2024-09-03 17:11:27,787 fedbiomed INFO - \u001b[1mTRAINING\u001b[0m \n",
       "\t\t\t\t\t NODE_ID: NODE_c6864947-8a25-4b11-aa49-fe9f41a4d98f \n",
       "\t\t\t\t\t Round 4 Epoch: 1 | Iteration: 50/100 (50%) | Samples: 2400/4800\n",
       " \t\t\t\t\t Loss: \u001b[1m0.020094\u001b[0m \n",
       "\t\t\t\t\t ---------"
      ]
     },
     "metadata": {},
     "output_type": "display_data"
    },
    {
     "data": {
      "text/plain": [
       "2024-09-03 17:11:27,806 fedbiomed INFO - \u001b[1mTRAINING\u001b[0m \n",
       "\t\t\t\t\t NODE_ID: NODE_16ecdabb-f02b-4973-94f8-a9f9e5c04412 \n",
       "\t\t\t\t\t Round 4 Epoch: 1 | Iteration: 50/100 (50%) | Samples: 2400/4800\n",
       " \t\t\t\t\t Loss: \u001b[1m0.230560\u001b[0m \n",
       "\t\t\t\t\t ---------"
      ]
     },
     "metadata": {},
     "output_type": "display_data"
    },
    {
     "data": {
      "text/plain": [
       "2024-09-03 17:11:28,170 fedbiomed INFO - \u001b[1mTRAINING\u001b[0m \n",
       "\t\t\t\t\t NODE_ID: NODE_c6864947-8a25-4b11-aa49-fe9f41a4d98f \n",
       "\t\t\t\t\t Round 4 Epoch: 1 | Iteration: 60/100 (60%) | Samples: 2880/4800\n",
       " \t\t\t\t\t Loss: \u001b[1m0.080390\u001b[0m \n",
       "\t\t\t\t\t ---------"
      ]
     },
     "metadata": {},
     "output_type": "display_data"
    },
    {
     "data": {
      "text/plain": [
       "2024-09-03 17:11:28,185 fedbiomed INFO - \u001b[1mTRAINING\u001b[0m \n",
       "\t\t\t\t\t NODE_ID: NODE_16ecdabb-f02b-4973-94f8-a9f9e5c04412 \n",
       "\t\t\t\t\t Round 4 Epoch: 1 | Iteration: 60/100 (60%) | Samples: 2880/4800\n",
       " \t\t\t\t\t Loss: \u001b[1m0.339153\u001b[0m \n",
       "\t\t\t\t\t ---------"
      ]
     },
     "metadata": {},
     "output_type": "display_data"
    },
    {
     "data": {
      "text/plain": [
       "2024-09-03 17:11:28,553 fedbiomed INFO - \u001b[1mTRAINING\u001b[0m \n",
       "\t\t\t\t\t NODE_ID: NODE_c6864947-8a25-4b11-aa49-fe9f41a4d98f \n",
       "\t\t\t\t\t Round 4 Epoch: 1 | Iteration: 70/100 (70%) | Samples: 3360/4800\n",
       " \t\t\t\t\t Loss: \u001b[1m0.040348\u001b[0m \n",
       "\t\t\t\t\t ---------"
      ]
     },
     "metadata": {},
     "output_type": "display_data"
    },
    {
     "data": {
      "text/plain": [
       "2024-09-03 17:11:28,574 fedbiomed INFO - \u001b[1mTRAINING\u001b[0m \n",
       "\t\t\t\t\t NODE_ID: NODE_16ecdabb-f02b-4973-94f8-a9f9e5c04412 \n",
       "\t\t\t\t\t Round 4 Epoch: 1 | Iteration: 70/100 (70%) | Samples: 3360/4800\n",
       " \t\t\t\t\t Loss: \u001b[1m0.123436\u001b[0m \n",
       "\t\t\t\t\t ---------"
      ]
     },
     "metadata": {},
     "output_type": "display_data"
    },
    {
     "data": {
      "text/plain": [
       "2024-09-03 17:11:28,930 fedbiomed INFO - \u001b[1mTRAINING\u001b[0m \n",
       "\t\t\t\t\t NODE_ID: NODE_c6864947-8a25-4b11-aa49-fe9f41a4d98f \n",
       "\t\t\t\t\t Round 4 Epoch: 1 | Iteration: 80/100 (80%) | Samples: 3840/4800\n",
       " \t\t\t\t\t Loss: \u001b[1m0.295195\u001b[0m \n",
       "\t\t\t\t\t ---------"
      ]
     },
     "metadata": {},
     "output_type": "display_data"
    },
    {
     "data": {
      "text/plain": [
       "2024-09-03 17:11:28,946 fedbiomed INFO - \u001b[1mTRAINING\u001b[0m \n",
       "\t\t\t\t\t NODE_ID: NODE_16ecdabb-f02b-4973-94f8-a9f9e5c04412 \n",
       "\t\t\t\t\t Round 4 Epoch: 1 | Iteration: 80/100 (80%) | Samples: 3840/4800\n",
       " \t\t\t\t\t Loss: \u001b[1m0.020519\u001b[0m \n",
       "\t\t\t\t\t ---------"
      ]
     },
     "metadata": {},
     "output_type": "display_data"
    },
    {
     "data": {
      "text/plain": [
       "2024-09-03 17:11:29,312 fedbiomed INFO - \u001b[1mTRAINING\u001b[0m \n",
       "\t\t\t\t\t NODE_ID: NODE_c6864947-8a25-4b11-aa49-fe9f41a4d98f \n",
       "\t\t\t\t\t Round 4 Epoch: 1 | Iteration: 90/100 (90%) | Samples: 4320/4800\n",
       " \t\t\t\t\t Loss: \u001b[1m0.188577\u001b[0m \n",
       "\t\t\t\t\t ---------"
      ]
     },
     "metadata": {},
     "output_type": "display_data"
    },
    {
     "data": {
      "text/plain": [
       "2024-09-03 17:11:29,333 fedbiomed INFO - \u001b[1mTRAINING\u001b[0m \n",
       "\t\t\t\t\t NODE_ID: NODE_16ecdabb-f02b-4973-94f8-a9f9e5c04412 \n",
       "\t\t\t\t\t Round 4 Epoch: 1 | Iteration: 90/100 (90%) | Samples: 4320/4800\n",
       " \t\t\t\t\t Loss: \u001b[1m0.133639\u001b[0m \n",
       "\t\t\t\t\t ---------"
      ]
     },
     "metadata": {},
     "output_type": "display_data"
    },
    {
     "data": {
      "text/plain": [
       "2024-09-03 17:11:29,677 fedbiomed INFO - \u001b[1mTRAINING\u001b[0m \n",
       "\t\t\t\t\t NODE_ID: NODE_c6864947-8a25-4b11-aa49-fe9f41a4d98f \n",
       "\t\t\t\t\t Round 4 Epoch: 1 | Iteration: 100/100 (100%) | Samples: 4800/4800\n",
       " \t\t\t\t\t Loss: \u001b[1m0.058465\u001b[0m \n",
       "\t\t\t\t\t ---------"
      ]
     },
     "metadata": {},
     "output_type": "display_data"
    },
    {
     "data": {
      "text/plain": [
       "2024-09-03 17:11:29,709 fedbiomed INFO - \u001b[1mTRAINING\u001b[0m \n",
       "\t\t\t\t\t NODE_ID: NODE_16ecdabb-f02b-4973-94f8-a9f9e5c04412 \n",
       "\t\t\t\t\t Round 4 Epoch: 1 | Iteration: 100/100 (100%) | Samples: 4800/4800\n",
       " \t\t\t\t\t Loss: \u001b[1m0.096439\u001b[0m \n",
       "\t\t\t\t\t ---------"
      ]
     },
     "metadata": {},
     "output_type": "display_data"
    },
    {
     "data": {
      "text/plain": [
       "2024-09-03 17:11:29,732 fedbiomed INFO - Nodes that successfully reply in round 3 ['NODE_c6864947-8a25-4b11-aa49-fe9f41a4d98f', 'NODE_16ecdabb-f02b-4973-94f8-a9f9e5c04412']"
      ]
     },
     "metadata": {},
     "output_type": "display_data"
    },
    {
     "data": {
      "text/plain": [
       "2024-09-03 17:11:29,735 fedbiomed INFO - Sampled nodes in round 4 ['NODE_c6864947-8a25-4b11-aa49-fe9f41a4d98f', 'NODE_16ecdabb-f02b-4973-94f8-a9f9e5c04412']"
      ]
     },
     "metadata": {},
     "output_type": "display_data"
    },
    {
     "data": {
      "text/plain": [
       "2024-09-03 17:11:29,736 fedbiomed INFO - \u001b[1mSending request\u001b[0m \n",
       "\t\t\t\t\t\u001b[1m To\u001b[0m: NODE_c6864947-8a25-4b11-aa49-fe9f41a4d98f \n",
       "\t\t\t\t\t\u001b[1m Request: \u001b[0m: TRAIN\n",
       " -----------------------------------------------------------------"
      ]
     },
     "metadata": {},
     "output_type": "display_data"
    },
    {
     "data": {
      "text/plain": [
       "2024-09-03 17:11:29,736 fedbiomed INFO - \u001b[1mSending request\u001b[0m \n",
       "\t\t\t\t\t\u001b[1m To\u001b[0m: NODE_16ecdabb-f02b-4973-94f8-a9f9e5c04412 \n",
       "\t\t\t\t\t\u001b[1m Request: \u001b[0m: TRAIN\n",
       " -----------------------------------------------------------------"
      ]
     },
     "metadata": {},
     "output_type": "display_data"
    },
    {
     "data": {
      "text/plain": [
       "2024-09-03 17:11:29,756 fedbiomed DEBUG - Node: NODE_c6864947-8a25-4b11-aa49-fe9f41a4d98f polling for the tasks"
      ]
     },
     "metadata": {},
     "output_type": "display_data"
    },
    {
     "data": {
      "text/plain": [
       "2024-09-03 17:11:29,757 fedbiomed DEBUG - Node: NODE_16ecdabb-f02b-4973-94f8-a9f9e5c04412 polling for the tasks"
      ]
     },
     "metadata": {},
     "output_type": "display_data"
    },
    {
     "data": {
      "text/plain": [
       "2024-09-03 17:11:29,833 fedbiomed INFO - \u001b[1mTRAINING\u001b[0m \n",
       "\t\t\t\t\t NODE_ID: NODE_c6864947-8a25-4b11-aa49-fe9f41a4d98f \n",
       "\t\t\t\t\t Round 5 Epoch: 1 | Iteration: 1/100 (1%) | Samples: 48/4800\n",
       " \t\t\t\t\t Loss: \u001b[1m0.025184\u001b[0m \n",
       "\t\t\t\t\t ---------"
      ]
     },
     "metadata": {},
     "output_type": "display_data"
    },
    {
     "data": {
      "text/plain": [
       "2024-09-03 17:11:29,839 fedbiomed INFO - \u001b[1mTRAINING\u001b[0m \n",
       "\t\t\t\t\t NODE_ID: NODE_16ecdabb-f02b-4973-94f8-a9f9e5c04412 \n",
       "\t\t\t\t\t Round 5 Epoch: 1 | Iteration: 1/100 (1%) | Samples: 48/4800\n",
       " \t\t\t\t\t Loss: \u001b[1m0.056313\u001b[0m \n",
       "\t\t\t\t\t ---------"
      ]
     },
     "metadata": {},
     "output_type": "display_data"
    },
    {
     "data": {
      "text/plain": [
       "2024-09-03 17:11:30,171 fedbiomed INFO - \u001b[1mTRAINING\u001b[0m \n",
       "\t\t\t\t\t NODE_ID: NODE_c6864947-8a25-4b11-aa49-fe9f41a4d98f \n",
       "\t\t\t\t\t Round 5 Epoch: 1 | Iteration: 10/100 (10%) | Samples: 480/4800\n",
       " \t\t\t\t\t Loss: \u001b[1m0.148644\u001b[0m \n",
       "\t\t\t\t\t ---------"
      ]
     },
     "metadata": {},
     "output_type": "display_data"
    },
    {
     "data": {
      "text/plain": [
       "2024-09-03 17:11:30,185 fedbiomed INFO - \u001b[1mTRAINING\u001b[0m \n",
       "\t\t\t\t\t NODE_ID: NODE_16ecdabb-f02b-4973-94f8-a9f9e5c04412 \n",
       "\t\t\t\t\t Round 5 Epoch: 1 | Iteration: 10/100 (10%) | Samples: 480/4800\n",
       " \t\t\t\t\t Loss: \u001b[1m0.070137\u001b[0m \n",
       "\t\t\t\t\t ---------"
      ]
     },
     "metadata": {},
     "output_type": "display_data"
    },
    {
     "data": {
      "text/plain": [
       "2024-09-03 17:11:30,552 fedbiomed INFO - \u001b[1mTRAINING\u001b[0m \n",
       "\t\t\t\t\t NODE_ID: NODE_c6864947-8a25-4b11-aa49-fe9f41a4d98f \n",
       "\t\t\t\t\t Round 5 Epoch: 1 | Iteration: 20/100 (20%) | Samples: 960/4800\n",
       " \t\t\t\t\t Loss: \u001b[1m0.087055\u001b[0m \n",
       "\t\t\t\t\t ---------"
      ]
     },
     "metadata": {},
     "output_type": "display_data"
    },
    {
     "data": {
      "text/plain": [
       "2024-09-03 17:11:30,569 fedbiomed INFO - \u001b[1mTRAINING\u001b[0m \n",
       "\t\t\t\t\t NODE_ID: NODE_16ecdabb-f02b-4973-94f8-a9f9e5c04412 \n",
       "\t\t\t\t\t Round 5 Epoch: 1 | Iteration: 20/100 (20%) | Samples: 960/4800\n",
       " \t\t\t\t\t Loss: \u001b[1m0.021842\u001b[0m \n",
       "\t\t\t\t\t ---------"
      ]
     },
     "metadata": {},
     "output_type": "display_data"
    },
    {
     "data": {
      "text/plain": [
       "2024-09-03 17:11:30,934 fedbiomed INFO - \u001b[1mTRAINING\u001b[0m \n",
       "\t\t\t\t\t NODE_ID: NODE_c6864947-8a25-4b11-aa49-fe9f41a4d98f \n",
       "\t\t\t\t\t Round 5 Epoch: 1 | Iteration: 30/100 (30%) | Samples: 1440/4800\n",
       " \t\t\t\t\t Loss: \u001b[1m0.083146\u001b[0m \n",
       "\t\t\t\t\t ---------"
      ]
     },
     "metadata": {},
     "output_type": "display_data"
    },
    {
     "data": {
      "text/plain": [
       "2024-09-03 17:11:30,960 fedbiomed INFO - \u001b[1mTRAINING\u001b[0m \n",
       "\t\t\t\t\t NODE_ID: NODE_16ecdabb-f02b-4973-94f8-a9f9e5c04412 \n",
       "\t\t\t\t\t Round 5 Epoch: 1 | Iteration: 30/100 (30%) | Samples: 1440/4800\n",
       " \t\t\t\t\t Loss: \u001b[1m0.065708\u001b[0m \n",
       "\t\t\t\t\t ---------"
      ]
     },
     "metadata": {},
     "output_type": "display_data"
    },
    {
     "data": {
      "text/plain": [
       "2024-09-03 17:11:31,320 fedbiomed INFO - \u001b[1mTRAINING\u001b[0m \n",
       "\t\t\t\t\t NODE_ID: NODE_c6864947-8a25-4b11-aa49-fe9f41a4d98f \n",
       "\t\t\t\t\t Round 5 Epoch: 1 | Iteration: 40/100 (40%) | Samples: 1920/4800\n",
       " \t\t\t\t\t Loss: \u001b[1m0.061417\u001b[0m \n",
       "\t\t\t\t\t ---------"
      ]
     },
     "metadata": {},
     "output_type": "display_data"
    },
    {
     "data": {
      "text/plain": [
       "2024-09-03 17:11:31,334 fedbiomed INFO - \u001b[1mTRAINING\u001b[0m \n",
       "\t\t\t\t\t NODE_ID: NODE_16ecdabb-f02b-4973-94f8-a9f9e5c04412 \n",
       "\t\t\t\t\t Round 5 Epoch: 1 | Iteration: 40/100 (40%) | Samples: 1920/4800\n",
       " \t\t\t\t\t Loss: \u001b[1m0.129284\u001b[0m \n",
       "\t\t\t\t\t ---------"
      ]
     },
     "metadata": {},
     "output_type": "display_data"
    },
    {
     "data": {
      "text/plain": [
       "2024-09-03 17:11:31,695 fedbiomed INFO - \u001b[1mTRAINING\u001b[0m \n",
       "\t\t\t\t\t NODE_ID: NODE_c6864947-8a25-4b11-aa49-fe9f41a4d98f \n",
       "\t\t\t\t\t Round 5 Epoch: 1 | Iteration: 50/100 (50%) | Samples: 2400/4800\n",
       " \t\t\t\t\t Loss: \u001b[1m0.159054\u001b[0m \n",
       "\t\t\t\t\t ---------"
      ]
     },
     "metadata": {},
     "output_type": "display_data"
    },
    {
     "data": {
      "text/plain": [
       "2024-09-03 17:11:31,720 fedbiomed INFO - \u001b[1mTRAINING\u001b[0m \n",
       "\t\t\t\t\t NODE_ID: NODE_16ecdabb-f02b-4973-94f8-a9f9e5c04412 \n",
       "\t\t\t\t\t Round 5 Epoch: 1 | Iteration: 50/100 (50%) | Samples: 2400/4800\n",
       " \t\t\t\t\t Loss: \u001b[1m0.078118\u001b[0m \n",
       "\t\t\t\t\t ---------"
      ]
     },
     "metadata": {},
     "output_type": "display_data"
    },
    {
     "data": {
      "text/plain": [
       "2024-09-03 17:11:32,078 fedbiomed INFO - \u001b[1mTRAINING\u001b[0m \n",
       "\t\t\t\t\t NODE_ID: NODE_c6864947-8a25-4b11-aa49-fe9f41a4d98f \n",
       "\t\t\t\t\t Round 5 Epoch: 1 | Iteration: 60/100 (60%) | Samples: 2880/4800\n",
       " \t\t\t\t\t Loss: \u001b[1m0.109640\u001b[0m \n",
       "\t\t\t\t\t ---------"
      ]
     },
     "metadata": {},
     "output_type": "display_data"
    },
    {
     "data": {
      "text/plain": [
       "2024-09-03 17:11:32,097 fedbiomed INFO - \u001b[1mTRAINING\u001b[0m \n",
       "\t\t\t\t\t NODE_ID: NODE_16ecdabb-f02b-4973-94f8-a9f9e5c04412 \n",
       "\t\t\t\t\t Round 5 Epoch: 1 | Iteration: 60/100 (60%) | Samples: 2880/4800\n",
       " \t\t\t\t\t Loss: \u001b[1m0.024639\u001b[0m \n",
       "\t\t\t\t\t ---------"
      ]
     },
     "metadata": {},
     "output_type": "display_data"
    },
    {
     "data": {
      "text/plain": [
       "2024-09-03 17:11:32,458 fedbiomed INFO - \u001b[1mTRAINING\u001b[0m \n",
       "\t\t\t\t\t NODE_ID: NODE_c6864947-8a25-4b11-aa49-fe9f41a4d98f \n",
       "\t\t\t\t\t Round 5 Epoch: 1 | Iteration: 70/100 (70%) | Samples: 3360/4800\n",
       " \t\t\t\t\t Loss: \u001b[1m0.037583\u001b[0m \n",
       "\t\t\t\t\t ---------"
      ]
     },
     "metadata": {},
     "output_type": "display_data"
    },
    {
     "data": {
      "text/plain": [
       "2024-09-03 17:11:32,477 fedbiomed INFO - \u001b[1mTRAINING\u001b[0m \n",
       "\t\t\t\t\t NODE_ID: NODE_16ecdabb-f02b-4973-94f8-a9f9e5c04412 \n",
       "\t\t\t\t\t Round 5 Epoch: 1 | Iteration: 70/100 (70%) | Samples: 3360/4800\n",
       " \t\t\t\t\t Loss: \u001b[1m0.153909\u001b[0m \n",
       "\t\t\t\t\t ---------"
      ]
     },
     "metadata": {},
     "output_type": "display_data"
    },
    {
     "data": {
      "text/plain": [
       "2024-09-03 17:11:32,833 fedbiomed INFO - \u001b[1mTRAINING\u001b[0m \n",
       "\t\t\t\t\t NODE_ID: NODE_c6864947-8a25-4b11-aa49-fe9f41a4d98f \n",
       "\t\t\t\t\t Round 5 Epoch: 1 | Iteration: 80/100 (80%) | Samples: 3840/4800\n",
       " \t\t\t\t\t Loss: \u001b[1m0.400187\u001b[0m \n",
       "\t\t\t\t\t ---------"
      ]
     },
     "metadata": {},
     "output_type": "display_data"
    },
    {
     "data": {
      "text/plain": [
       "2024-09-03 17:11:32,859 fedbiomed INFO - \u001b[1mTRAINING\u001b[0m \n",
       "\t\t\t\t\t NODE_ID: NODE_16ecdabb-f02b-4973-94f8-a9f9e5c04412 \n",
       "\t\t\t\t\t Round 5 Epoch: 1 | Iteration: 80/100 (80%) | Samples: 3840/4800\n",
       " \t\t\t\t\t Loss: \u001b[1m0.306328\u001b[0m \n",
       "\t\t\t\t\t ---------"
      ]
     },
     "metadata": {},
     "output_type": "display_data"
    },
    {
     "data": {
      "text/plain": [
       "2024-09-03 17:11:33,215 fedbiomed INFO - \u001b[1mTRAINING\u001b[0m \n",
       "\t\t\t\t\t NODE_ID: NODE_c6864947-8a25-4b11-aa49-fe9f41a4d98f \n",
       "\t\t\t\t\t Round 5 Epoch: 1 | Iteration: 90/100 (90%) | Samples: 4320/4800\n",
       " \t\t\t\t\t Loss: \u001b[1m0.134768\u001b[0m \n",
       "\t\t\t\t\t ---------"
      ]
     },
     "metadata": {},
     "output_type": "display_data"
    },
    {
     "data": {
      "text/plain": [
       "2024-09-03 17:11:33,236 fedbiomed INFO - \u001b[1mTRAINING\u001b[0m \n",
       "\t\t\t\t\t NODE_ID: NODE_16ecdabb-f02b-4973-94f8-a9f9e5c04412 \n",
       "\t\t\t\t\t Round 5 Epoch: 1 | Iteration: 90/100 (90%) | Samples: 4320/4800\n",
       " \t\t\t\t\t Loss: \u001b[1m0.235516\u001b[0m \n",
       "\t\t\t\t\t ---------"
      ]
     },
     "metadata": {},
     "output_type": "display_data"
    },
    {
     "data": {
      "text/plain": [
       "2024-09-03 17:11:33,599 fedbiomed INFO - \u001b[1mTRAINING\u001b[0m \n",
       "\t\t\t\t\t NODE_ID: NODE_c6864947-8a25-4b11-aa49-fe9f41a4d98f \n",
       "\t\t\t\t\t Round 5 Epoch: 1 | Iteration: 100/100 (100%) | Samples: 4800/4800\n",
       " \t\t\t\t\t Loss: \u001b[1m0.071009\u001b[0m \n",
       "\t\t\t\t\t ---------"
      ]
     },
     "metadata": {},
     "output_type": "display_data"
    },
    {
     "data": {
      "text/plain": [
       "2024-09-03 17:11:33,611 fedbiomed INFO - \u001b[1mTRAINING\u001b[0m \n",
       "\t\t\t\t\t NODE_ID: NODE_16ecdabb-f02b-4973-94f8-a9f9e5c04412 \n",
       "\t\t\t\t\t Round 5 Epoch: 1 | Iteration: 100/100 (100%) | Samples: 4800/4800\n",
       " \t\t\t\t\t Loss: \u001b[1m0.257386\u001b[0m \n",
       "\t\t\t\t\t ---------"
      ]
     },
     "metadata": {},
     "output_type": "display_data"
    },
    {
     "data": {
      "text/plain": [
       "2024-09-03 17:11:33,633 fedbiomed INFO - Nodes that successfully reply in round 4 ['NODE_c6864947-8a25-4b11-aa49-fe9f41a4d98f', 'NODE_16ecdabb-f02b-4973-94f8-a9f9e5c04412']"
      ]
     },
     "metadata": {},
     "output_type": "display_data"
    },
    {
     "data": {
      "text/plain": [
       "2024-09-03 17:11:33,636 fedbiomed INFO - Sampled nodes in round 5 ['NODE_c6864947-8a25-4b11-aa49-fe9f41a4d98f', 'NODE_16ecdabb-f02b-4973-94f8-a9f9e5c04412']"
      ]
     },
     "metadata": {},
     "output_type": "display_data"
    },
    {
     "data": {
      "text/plain": [
       "2024-09-03 17:11:33,637 fedbiomed INFO - \u001b[1mSending request\u001b[0m \n",
       "\t\t\t\t\t\u001b[1m To\u001b[0m: NODE_c6864947-8a25-4b11-aa49-fe9f41a4d98f \n",
       "\t\t\t\t\t\u001b[1m Request: \u001b[0m: TRAIN\n",
       " -----------------------------------------------------------------"
      ]
     },
     "metadata": {},
     "output_type": "display_data"
    },
    {
     "data": {
      "text/plain": [
       "2024-09-03 17:11:33,638 fedbiomed INFO - \u001b[1mSending request\u001b[0m \n",
       "\t\t\t\t\t\u001b[1m To\u001b[0m: NODE_16ecdabb-f02b-4973-94f8-a9f9e5c04412 \n",
       "\t\t\t\t\t\u001b[1m Request: \u001b[0m: TRAIN\n",
       " -----------------------------------------------------------------"
      ]
     },
     "metadata": {},
     "output_type": "display_data"
    },
    {
     "data": {
      "text/plain": [
       "2024-09-03 17:11:33,657 fedbiomed DEBUG - Node: NODE_16ecdabb-f02b-4973-94f8-a9f9e5c04412 polling for the tasks"
      ]
     },
     "metadata": {},
     "output_type": "display_data"
    },
    {
     "data": {
      "text/plain": [
       "2024-09-03 17:11:33,658 fedbiomed DEBUG - Node: NODE_c6864947-8a25-4b11-aa49-fe9f41a4d98f polling for the tasks"
      ]
     },
     "metadata": {},
     "output_type": "display_data"
    },
    {
     "data": {
      "text/plain": [
       "2024-09-03 17:11:33,737 fedbiomed INFO - \u001b[1mTRAINING\u001b[0m \n",
       "\t\t\t\t\t NODE_ID: NODE_16ecdabb-f02b-4973-94f8-a9f9e5c04412 \n",
       "\t\t\t\t\t Round 6 Epoch: 1 | Iteration: 1/100 (1%) | Samples: 48/4800\n",
       " \t\t\t\t\t Loss: \u001b[1m0.096973\u001b[0m \n",
       "\t\t\t\t\t ---------"
      ]
     },
     "metadata": {},
     "output_type": "display_data"
    },
    {
     "data": {
      "text/plain": [
       "2024-09-03 17:11:33,744 fedbiomed INFO - \u001b[1mTRAINING\u001b[0m \n",
       "\t\t\t\t\t NODE_ID: NODE_c6864947-8a25-4b11-aa49-fe9f41a4d98f \n",
       "\t\t\t\t\t Round 6 Epoch: 1 | Iteration: 1/100 (1%) | Samples: 48/4800\n",
       " \t\t\t\t\t Loss: \u001b[1m0.180472\u001b[0m \n",
       "\t\t\t\t\t ---------"
      ]
     },
     "metadata": {},
     "output_type": "display_data"
    },
    {
     "data": {
      "text/plain": [
       "2024-09-03 17:11:34,079 fedbiomed INFO - \u001b[1mTRAINING\u001b[0m \n",
       "\t\t\t\t\t NODE_ID: NODE_16ecdabb-f02b-4973-94f8-a9f9e5c04412 \n",
       "\t\t\t\t\t Round 6 Epoch: 1 | Iteration: 10/100 (10%) | Samples: 480/4800\n",
       " \t\t\t\t\t Loss: \u001b[1m0.121664\u001b[0m \n",
       "\t\t\t\t\t ---------"
      ]
     },
     "metadata": {},
     "output_type": "display_data"
    },
    {
     "data": {
      "text/plain": [
       "2024-09-03 17:11:34,091 fedbiomed INFO - \u001b[1mTRAINING\u001b[0m \n",
       "\t\t\t\t\t NODE_ID: NODE_c6864947-8a25-4b11-aa49-fe9f41a4d98f \n",
       "\t\t\t\t\t Round 6 Epoch: 1 | Iteration: 10/100 (10%) | Samples: 480/4800\n",
       " \t\t\t\t\t Loss: \u001b[1m0.172246\u001b[0m \n",
       "\t\t\t\t\t ---------"
      ]
     },
     "metadata": {},
     "output_type": "display_data"
    },
    {
     "data": {
      "text/plain": [
       "2024-09-03 17:11:34,464 fedbiomed INFO - \u001b[1mTRAINING\u001b[0m \n",
       "\t\t\t\t\t NODE_ID: NODE_16ecdabb-f02b-4973-94f8-a9f9e5c04412 \n",
       "\t\t\t\t\t Round 6 Epoch: 1 | Iteration: 20/100 (20%) | Samples: 960/4800\n",
       " \t\t\t\t\t Loss: \u001b[1m0.058572\u001b[0m \n",
       "\t\t\t\t\t ---------"
      ]
     },
     "metadata": {},
     "output_type": "display_data"
    },
    {
     "data": {
      "text/plain": [
       "2024-09-03 17:11:34,483 fedbiomed INFO - \u001b[1mTRAINING\u001b[0m \n",
       "\t\t\t\t\t NODE_ID: NODE_c6864947-8a25-4b11-aa49-fe9f41a4d98f \n",
       "\t\t\t\t\t Round 6 Epoch: 1 | Iteration: 20/100 (20%) | Samples: 960/4800\n",
       " \t\t\t\t\t Loss: \u001b[1m0.071296\u001b[0m \n",
       "\t\t\t\t\t ---------"
      ]
     },
     "metadata": {},
     "output_type": "display_data"
    },
    {
     "data": {
      "text/plain": [
       "2024-09-03 17:11:34,842 fedbiomed INFO - \u001b[1mTRAINING\u001b[0m \n",
       "\t\t\t\t\t NODE_ID: NODE_16ecdabb-f02b-4973-94f8-a9f9e5c04412 \n",
       "\t\t\t\t\t Round 6 Epoch: 1 | Iteration: 30/100 (30%) | Samples: 1440/4800\n",
       " \t\t\t\t\t Loss: \u001b[1m0.115425\u001b[0m \n",
       "\t\t\t\t\t ---------"
      ]
     },
     "metadata": {},
     "output_type": "display_data"
    },
    {
     "data": {
      "text/plain": [
       "2024-09-03 17:11:34,862 fedbiomed INFO - \u001b[1mTRAINING\u001b[0m \n",
       "\t\t\t\t\t NODE_ID: NODE_c6864947-8a25-4b11-aa49-fe9f41a4d98f \n",
       "\t\t\t\t\t Round 6 Epoch: 1 | Iteration: 30/100 (30%) | Samples: 1440/4800\n",
       " \t\t\t\t\t Loss: \u001b[1m0.038526\u001b[0m \n",
       "\t\t\t\t\t ---------"
      ]
     },
     "metadata": {},
     "output_type": "display_data"
    },
    {
     "data": {
      "text/plain": [
       "2024-09-03 17:11:35,223 fedbiomed INFO - \u001b[1mTRAINING\u001b[0m \n",
       "\t\t\t\t\t NODE_ID: NODE_16ecdabb-f02b-4973-94f8-a9f9e5c04412 \n",
       "\t\t\t\t\t Round 6 Epoch: 1 | Iteration: 40/100 (40%) | Samples: 1920/4800\n",
       " \t\t\t\t\t Loss: \u001b[1m0.132444\u001b[0m \n",
       "\t\t\t\t\t ---------"
      ]
     },
     "metadata": {},
     "output_type": "display_data"
    },
    {
     "data": {
      "text/plain": [
       "2024-09-03 17:11:35,239 fedbiomed INFO - \u001b[1mTRAINING\u001b[0m \n",
       "\t\t\t\t\t NODE_ID: NODE_c6864947-8a25-4b11-aa49-fe9f41a4d98f \n",
       "\t\t\t\t\t Round 6 Epoch: 1 | Iteration: 40/100 (40%) | Samples: 1920/4800\n",
       " \t\t\t\t\t Loss: \u001b[1m0.097862\u001b[0m \n",
       "\t\t\t\t\t ---------"
      ]
     },
     "metadata": {},
     "output_type": "display_data"
    },
    {
     "data": {
      "text/plain": [
       "2024-09-03 17:11:35,592 fedbiomed INFO - \u001b[1mTRAINING\u001b[0m \n",
       "\t\t\t\t\t NODE_ID: NODE_16ecdabb-f02b-4973-94f8-a9f9e5c04412 \n",
       "\t\t\t\t\t Round 6 Epoch: 1 | Iteration: 50/100 (50%) | Samples: 2400/4800\n",
       " \t\t\t\t\t Loss: \u001b[1m0.126760\u001b[0m \n",
       "\t\t\t\t\t ---------"
      ]
     },
     "metadata": {},
     "output_type": "display_data"
    },
    {
     "data": {
      "text/plain": [
       "2024-09-03 17:11:35,626 fedbiomed INFO - \u001b[1mTRAINING\u001b[0m \n",
       "\t\t\t\t\t NODE_ID: NODE_c6864947-8a25-4b11-aa49-fe9f41a4d98f \n",
       "\t\t\t\t\t Round 6 Epoch: 1 | Iteration: 50/100 (50%) | Samples: 2400/4800\n",
       " \t\t\t\t\t Loss: \u001b[1m0.023512\u001b[0m \n",
       "\t\t\t\t\t ---------"
      ]
     },
     "metadata": {},
     "output_type": "display_data"
    },
    {
     "data": {
      "text/plain": [
       "2024-09-03 17:11:35,970 fedbiomed INFO - \u001b[1mTRAINING\u001b[0m \n",
       "\t\t\t\t\t NODE_ID: NODE_16ecdabb-f02b-4973-94f8-a9f9e5c04412 \n",
       "\t\t\t\t\t Round 6 Epoch: 1 | Iteration: 60/100 (60%) | Samples: 2880/4800\n",
       " \t\t\t\t\t Loss: \u001b[1m0.211551\u001b[0m \n",
       "\t\t\t\t\t ---------"
      ]
     },
     "metadata": {},
     "output_type": "display_data"
    },
    {
     "data": {
      "text/plain": [
       "2024-09-03 17:11:35,995 fedbiomed INFO - \u001b[1mTRAINING\u001b[0m \n",
       "\t\t\t\t\t NODE_ID: NODE_c6864947-8a25-4b11-aa49-fe9f41a4d98f \n",
       "\t\t\t\t\t Round 6 Epoch: 1 | Iteration: 60/100 (60%) | Samples: 2880/4800\n",
       " \t\t\t\t\t Loss: \u001b[1m0.046342\u001b[0m \n",
       "\t\t\t\t\t ---------"
      ]
     },
     "metadata": {},
     "output_type": "display_data"
    },
    {
     "data": {
      "text/plain": [
       "2024-09-03 17:11:36,354 fedbiomed INFO - \u001b[1mTRAINING\u001b[0m \n",
       "\t\t\t\t\t NODE_ID: NODE_16ecdabb-f02b-4973-94f8-a9f9e5c04412 \n",
       "\t\t\t\t\t Round 6 Epoch: 1 | Iteration: 70/100 (70%) | Samples: 3360/4800\n",
       " \t\t\t\t\t Loss: \u001b[1m0.042322\u001b[0m \n",
       "\t\t\t\t\t ---------"
      ]
     },
     "metadata": {},
     "output_type": "display_data"
    },
    {
     "data": {
      "text/plain": [
       "2024-09-03 17:11:36,375 fedbiomed INFO - \u001b[1mTRAINING\u001b[0m \n",
       "\t\t\t\t\t NODE_ID: NODE_c6864947-8a25-4b11-aa49-fe9f41a4d98f \n",
       "\t\t\t\t\t Round 6 Epoch: 1 | Iteration: 70/100 (70%) | Samples: 3360/4800\n",
       " \t\t\t\t\t Loss: \u001b[1m0.157866\u001b[0m \n",
       "\t\t\t\t\t ---------"
      ]
     },
     "metadata": {},
     "output_type": "display_data"
    },
    {
     "data": {
      "text/plain": [
       "2024-09-03 17:11:36,733 fedbiomed INFO - \u001b[1mTRAINING\u001b[0m \n",
       "\t\t\t\t\t NODE_ID: NODE_16ecdabb-f02b-4973-94f8-a9f9e5c04412 \n",
       "\t\t\t\t\t Round 6 Epoch: 1 | Iteration: 80/100 (80%) | Samples: 3840/4800\n",
       " \t\t\t\t\t Loss: \u001b[1m0.159955\u001b[0m \n",
       "\t\t\t\t\t ---------"
      ]
     },
     "metadata": {},
     "output_type": "display_data"
    },
    {
     "data": {
      "text/plain": [
       "2024-09-03 17:11:36,755 fedbiomed INFO - \u001b[1mTRAINING\u001b[0m \n",
       "\t\t\t\t\t NODE_ID: NODE_c6864947-8a25-4b11-aa49-fe9f41a4d98f \n",
       "\t\t\t\t\t Round 6 Epoch: 1 | Iteration: 80/100 (80%) | Samples: 3840/4800\n",
       " \t\t\t\t\t Loss: \u001b[1m0.111603\u001b[0m \n",
       "\t\t\t\t\t ---------"
      ]
     },
     "metadata": {},
     "output_type": "display_data"
    },
    {
     "data": {
      "text/plain": [
       "2024-09-03 17:11:37,109 fedbiomed INFO - \u001b[1mTRAINING\u001b[0m \n",
       "\t\t\t\t\t NODE_ID: NODE_16ecdabb-f02b-4973-94f8-a9f9e5c04412 \n",
       "\t\t\t\t\t Round 6 Epoch: 1 | Iteration: 90/100 (90%) | Samples: 4320/4800\n",
       " \t\t\t\t\t Loss: \u001b[1m0.188469\u001b[0m \n",
       "\t\t\t\t\t ---------"
      ]
     },
     "metadata": {},
     "output_type": "display_data"
    },
    {
     "data": {
      "text/plain": [
       "2024-09-03 17:11:37,136 fedbiomed INFO - \u001b[1mTRAINING\u001b[0m \n",
       "\t\t\t\t\t NODE_ID: NODE_c6864947-8a25-4b11-aa49-fe9f41a4d98f \n",
       "\t\t\t\t\t Round 6 Epoch: 1 | Iteration: 90/100 (90%) | Samples: 4320/4800\n",
       " \t\t\t\t\t Loss: \u001b[1m0.169790\u001b[0m \n",
       "\t\t\t\t\t ---------"
      ]
     },
     "metadata": {},
     "output_type": "display_data"
    },
    {
     "data": {
      "text/plain": [
       "2024-09-03 17:11:37,486 fedbiomed INFO - \u001b[1mTRAINING\u001b[0m \n",
       "\t\t\t\t\t NODE_ID: NODE_16ecdabb-f02b-4973-94f8-a9f9e5c04412 \n",
       "\t\t\t\t\t Round 6 Epoch: 1 | Iteration: 100/100 (100%) | Samples: 4800/4800\n",
       " \t\t\t\t\t Loss: \u001b[1m0.075609\u001b[0m \n",
       "\t\t\t\t\t ---------"
      ]
     },
     "metadata": {},
     "output_type": "display_data"
    },
    {
     "data": {
      "text/plain": [
       "2024-09-03 17:11:37,511 fedbiomed INFO - \u001b[1mTRAINING\u001b[0m \n",
       "\t\t\t\t\t NODE_ID: NODE_c6864947-8a25-4b11-aa49-fe9f41a4d98f \n",
       "\t\t\t\t\t Round 6 Epoch: 1 | Iteration: 100/100 (100%) | Samples: 4800/4800\n",
       " \t\t\t\t\t Loss: \u001b[1m0.089010\u001b[0m \n",
       "\t\t\t\t\t ---------"
      ]
     },
     "metadata": {},
     "output_type": "display_data"
    },
    {
     "data": {
      "text/plain": [
       "2024-09-03 17:11:37,531 fedbiomed INFO - Nodes that successfully reply in round 5 ['NODE_c6864947-8a25-4b11-aa49-fe9f41a4d98f', 'NODE_16ecdabb-f02b-4973-94f8-a9f9e5c04412']"
      ]
     },
     "metadata": {},
     "output_type": "display_data"
    },
    {
     "data": {
      "text/plain": [
       "4"
      ]
     },
     "execution_count": 7,
     "metadata": {},
     "output_type": "execute_result"
    }
   ],
   "source": [
    "exp.run(rounds=4, increase=True)"
   ]
  },
  {
   "cell_type": "code",
   "execution_count": null,
   "metadata": {},
   "outputs": [],
   "source": [
    "exp.run_once(increase=True)"
   ]
  },
  {
   "cell_type": "markdown",
   "metadata": {},
   "source": [
    "Save trained model to file"
   ]
  },
  {
   "cell_type": "code",
   "execution_count": null,
   "metadata": {},
   "outputs": [],
   "source": [
    "exp.training_plan().export_model('./trained_model')"
   ]
  },
  {
   "cell_type": "markdown",
   "metadata": {},
   "source": [
    "#### Display results"
   ]
  },
  {
   "cell_type": "code",
   "execution_count": null,
   "metadata": {
    "pycharm": {
     "name": "#%%\n"
    }
   },
   "outputs": [],
   "source": [
    "print(\"\\nList the training rounds : \", exp.training_replies().keys())\n",
    "\n",
    "print(\"\\nList the nodes for the last training round and their timings : \")\n",
    "round_data = exp.training_replies()[rounds - 1]\n",
    "for r in round_data.values():\n",
    "    print(\"\\t- {id} :\\\n",
    "    \\n\\t\\trtime_training={rtraining:.2f} seconds\\\n",
    "    \\n\\t\\tptime_training={ptraining:.2f} seconds\\\n",
    "    \\n\\t\\trtime_total={rtotal:.2f} seconds\".format(id = r['node_id'],\n",
    "        rtraining = r['timing']['rtime_training'],\n",
    "        ptraining = r['timing']['ptime_training'],\n",
    "        rtotal = r['timing']['rtime_total']))\n",
    "print('\\n')"
   ]
  },
  {
   "cell_type": "markdown",
   "metadata": {},
   "source": [
    "Federated parameters for each round are available via `exp.aggregated_params()` (index 0 to (`rounds` - 1) ).\n",
    "\n",
    "For example you can view the federated parameters for the last round of the experiment :"
   ]
  },
  {
   "cell_type": "code",
   "execution_count": null,
   "metadata": {},
   "outputs": [],
   "source": [
    "print(\"\\nList the training rounds : \", exp.aggregated_params().keys())\n",
    "\n",
    "print(\"\\nAccess the federated params for the last training round :\")\n",
    "print(\"\\t- parameter data: \", exp.aggregated_params()[rounds - 1]['params'].keys())\n"
   ]
  }
 ],
 "metadata": {
  "kernelspec": {
   "display_name": "Python 3 (ipykernel)",
   "language": "python",
   "name": "python3"
  },
  "language_info": {
   "codemirror_mode": {
    "name": "ipython",
    "version": 3
   },
   "file_extension": ".py",
   "mimetype": "text/x-python",
   "name": "python",
   "nbconvert_exporter": "python",
   "pygments_lexer": "ipython3",
   "version": "3.10.14"
  }
 },
 "nbformat": 4,
 "nbformat_minor": 4
}
